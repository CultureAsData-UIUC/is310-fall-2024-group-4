{
 "cells": [
  {
   "cell_type": "code",
   "execution_count": 1,
   "metadata": {},
   "outputs": [],
   "source": [
    "import pandas as pd\n",
    "import math\n",
    "import numpy as np"
   ]
  },
  {
   "cell_type": "code",
   "execution_count": 2,
   "metadata": {},
   "outputs": [],
   "source": [
    "# Load the CSV file\n",
    "df = pd.read_csv('Semester Long Project Dataset.csv')"
   ]
  },
  {
   "cell_type": "code",
   "execution_count": 3,
   "metadata": {},
   "outputs": [
    {
     "data": {
      "text/plain": [
       "23.21"
      ]
     },
     "execution_count": 3,
     "metadata": {},
     "output_type": "execute_result"
    }
   ],
   "source": [
    "np.mean([df['# of tweets']])"
   ]
  },
  {
   "cell_type": "markdown",
   "metadata": {},
   "source": [
    "The mean number of tweets for the NBA players of the top 5 and bottom 5 teams in the NBA for the years 2021-2022 and 2022-2023 is 23.21"
   ]
  },
  {
   "cell_type": "code",
   "execution_count": 4,
   "metadata": {},
   "outputs": [
    {
     "name": "stdout",
     "output_type": "stream",
     "text": [
      "       Season       Team  Team Rank                    Player  # of tweets  \\\n",
      "0   2021-2022    Celtics          5              Jayson Tatum           41   \n",
      "1   2021-2022    Celtics          5              Jaylen Brown           40   \n",
      "2   2021-2022    Celtics          5                Al Horford           20   \n",
      "3   2021-2022    Celtics          5              Marcus Smart           20   \n",
      "4   2021-2022    Celtics          5             Derrick White            1   \n",
      "5   2021-2022   Warriors          3               Steph Curry           40   \n",
      "6   2021-2022   Warriors          3            Draymond Green           20   \n",
      "7   2021-2022   Warriors          3             Klay Thompson           10   \n",
      "8   2021-2022   Warriors          3            Andrew Wiggins            5   \n",
      "9   2021-2022   Warriors          3              Kevon Looney            2   \n",
      "10  2021-2022  Grizzlies          2              Steven Adams            2   \n",
      "11  2021-2022  Grizzlies          2              Desmond Bane           95   \n",
      "12  2021-2022  Grizzlies          2             Jaren Jackson           99   \n",
      "13  2021-2022  Grizzlies          2                 Ja Morant          103   \n",
      "14  2021-2022  Grizzlies          2         Ziaire Williams\\n           20   \n",
      "15  2021-2022       Heat          4               Bam Adebayo           22   \n",
      "16  2021-2022       Heat          4              Jimmy Butler            6   \n",
      "17  2021-2022       Heat          4           Duncan Robinson           10   \n",
      "18  2021-2022       Heat          4                 PJ Tucker            0   \n",
      "19  2021-2022       Heat          4                Kyle Lowry           15   \n",
      "20  2021-2022       Suns          1                Chris Paul           43   \n",
      "21  2021-2022       Suns          1              Devin Booker           21   \n",
      "22  2021-2022       Suns          1               Jae Crowder          100   \n",
      "23  2021-2022       Suns          1             Deandre Ayton           22   \n",
      "24  2021-2022       Suns          1             Mikal Bridges          151   \n",
      "50  2022-2023      Bucks          1             Grayson Allen            1   \n",
      "51  2022-2023      Bucks          1   Giannis Antetokounmmpo           159   \n",
      "52  2022-2023      Bucks          1           Pat Connaughton           34   \n",
      "53  2022-2023      Bucks          1              Jrue Holiday            3   \n",
      "54  2022-2023      Bucks          1               Brook Lopez            0   \n",
      "55  2022-2023    Celtics          2              Jaylen Brown           37   \n",
      "56  2022-2023    Celtics          2                Al Horford           18   \n",
      "57  2022-2023    Celtics          2              Marcus Smart           58   \n",
      "58  2022-2023    Celtics          2              Jayson Tatum           68   \n",
      "59  2022-2023    Celtics          2             Derrick White            1   \n",
      "60  2022-2023      76ers          3               Joel Embiid            9   \n",
      "61  2022-2023      76ers          3              James Harden           79   \n",
      "62  2022-2023      76ers          3             Tobias Harris           14   \n",
      "63  2022-2023      76ers          3              Tyrese Maxey           35   \n",
      "64  2022-2023      76ers          3               P.J. Tucker            0   \n",
      "65  2022-2023    Nuggets          4        Michael Porter Jr.            0   \n",
      "66  2022-2023    Nuggets          4              Nikola Jokić            0   \n",
      "67  2022-2023    Nuggets          4              Aaron Gordon            4   \n",
      "68  2022-2023    Nuggets          4  Kentavious Caldwell-Pope            6   \n",
      "69  2022-2023    Nuggets          4              Jamal Murray           18   \n",
      "70  2022-2023       Cavs          5             Jarrett Allen            0   \n",
      "71  2022-2023       Cavs          5            Darius Garland           49   \n",
      "72  2022-2023       Cavs          5          Donovan Mitchell           72   \n",
      "73  2022-2023       Cavs          5               Evan Mobley            3   \n",
      "74  2022-2023       Cavs          5               Isaac Okoro           12   \n",
      "\n",
      "    Unnamed: 5  Unnamed: 6        Unnamed: 7  \\\n",
      "0          NaN  Start Date  October 19, 2021   \n",
      "1          NaN   End Date     April 10, 2022   \n",
      "2          NaN         NaN               NaN   \n",
      "3          NaN         NaN               NaN   \n",
      "4          NaN         NaN               NaN   \n",
      "5          NaN         NaN               NaN   \n",
      "6          NaN         NaN               NaN   \n",
      "7          NaN         NaN               NaN   \n",
      "8          NaN         NaN               NaN   \n",
      "9          NaN         NaN               NaN   \n",
      "10         NaN         NaN               NaN   \n",
      "11         NaN         NaN               NaN   \n",
      "12         NaN         NaN               NaN   \n",
      "13         NaN         NaN               NaN   \n",
      "14         NaN         NaN               NaN   \n",
      "15         NaN         NaN               NaN   \n",
      "16         NaN         NaN               NaN   \n",
      "17         NaN         NaN               NaN   \n",
      "18         NaN         NaN               NaN   \n",
      "19         NaN         NaN               NaN   \n",
      "20         NaN         NaN               NaN   \n",
      "21         NaN         NaN               NaN   \n",
      "22         NaN         NaN               NaN   \n",
      "23         NaN         NaN               NaN   \n",
      "24         NaN         NaN               NaN   \n",
      "50         NaN         NaN               NaN   \n",
      "51         NaN         NaN               NaN   \n",
      "52         NaN         NaN               NaN   \n",
      "53         NaN         NaN               NaN   \n",
      "54         NaN         NaN               NaN   \n",
      "55         NaN         NaN               NaN   \n",
      "56         NaN         NaN               NaN   \n",
      "57         NaN         NaN               NaN   \n",
      "58         NaN         NaN               NaN   \n",
      "59         NaN         NaN               NaN   \n",
      "60         NaN         NaN               NaN   \n",
      "61         NaN         NaN               NaN   \n",
      "62         NaN         NaN               NaN   \n",
      "63         NaN         NaN               NaN   \n",
      "64         NaN         NaN               NaN   \n",
      "65         NaN         NaN               NaN   \n",
      "66         NaN         NaN               NaN   \n",
      "67         NaN         NaN               NaN   \n",
      "68         NaN         NaN               NaN   \n",
      "69         NaN         NaN               NaN   \n",
      "70         NaN         NaN               NaN   \n",
      "71         NaN         NaN               NaN   \n",
      "72         NaN         NaN               NaN   \n",
      "73         NaN         NaN               NaN   \n",
      "74         NaN         NaN               NaN   \n",
      "\n",
      "                                           Unnamed: 8  \n",
      "0                                  Starting 5 Website  \n",
      "1   (from:Al_Horford) until:2023-04-09 since:2022-...  \n",
      "2                                                 NaN  \n",
      "3                                                 NaN  \n",
      "4                                                 NaN  \n",
      "5                                                 NaN  \n",
      "6                                                 NaN  \n",
      "7                                                 NaN  \n",
      "8                                                 NaN  \n",
      "9                                                 NaN  \n",
      "10                                                NaN  \n",
      "11                                                NaN  \n",
      "12                                                NaN  \n",
      "13                                                NaN  \n",
      "14                                                NaN  \n",
      "15                                                NaN  \n",
      "16                                                NaN  \n",
      "17                                                NaN  \n",
      "18                                                NaN  \n",
      "19                                                NaN  \n",
      "20                                                NaN  \n",
      "21                                                NaN  \n",
      "22                                                NaN  \n",
      "23                                                NaN  \n",
      "24                                                NaN  \n",
      "50                                                NaN  \n",
      "51                                                NaN  \n",
      "52                                                NaN  \n",
      "53                                                NaN  \n",
      "54                                                NaN  \n",
      "55                                                NaN  \n",
      "56                                                NaN  \n",
      "57                                                NaN  \n",
      "58                                                NaN  \n",
      "59                                                NaN  \n",
      "60                                                NaN  \n",
      "61                                                NaN  \n",
      "62                                                NaN  \n",
      "63                                                NaN  \n",
      "64                                                NaN  \n",
      "65                                                NaN  \n",
      "66                                                NaN  \n",
      "67                                                NaN  \n",
      "68                                                NaN  \n",
      "69                                                NaN  \n",
      "70                                                NaN  \n",
      "71                                                NaN  \n",
      "72                                                NaN  \n",
      "73                                                NaN  \n",
      "74                                                NaN  \n"
     ]
    }
   ],
   "source": [
    "winners= df[df['Team Rank'] <= 5]\n",
    "print(winners)"
   ]
  },
  {
   "cell_type": "code",
   "execution_count": 5,
   "metadata": {},
   "outputs": [
    {
     "name": "stdout",
     "output_type": "stream",
     "text": [
      "       Season     Team  Team Rank              Player  # of tweets  \\\n",
      "25  2021-2022  Rockets         29         Eric Gordon           15   \n",
      "26  2021-2022  Rockets         29         Jalen Green            4   \n",
      "27  2021-2022  Rockets         29    Kevin Porter Jr.            0   \n",
      "28  2021-2022  Rockets         29        Jaesean Tate           15   \n",
      "29  2021-2022  Rockets         29      Christian Wood           18   \n",
      "30  2021-2022    Magic         30        Cole Anthony           20   \n",
      "31  2021-2022    Magic         30      Wendell Carter           13   \n",
      "32  2021-2022    Magic         30            Mo Bamba           14   \n",
      "33  2021-2022    Magic         30         Jalen Suggs            7   \n",
      "34  2021-2022    Magic         30        Franz Wagner            0   \n",
      "35  2021-2022  Thunder         27      Darius Bazeley           38   \n",
      "36  2021-2022  Thunder         27       Luguentz Dort            0   \n",
      "37  2021-2022  Thunder         27         Josh Giddey           20   \n",
      "38  2021-2022  Thunder         27       Shai Gilgeous            0   \n",
      "39  2021-2022  Thunder         27   Jeremiah Robinson           17   \n",
      "40  2021-2022   Pacers         26     Malcolm Brogdon           12   \n",
      "41  2021-2022   Pacers         26        Chris Duarte           20   \n",
      "42  2021-2022   Pacers         26        Caris LeVert            0   \n",
      "43  2021-2022   Pacers         26    Domantas Sabonis            0   \n",
      "44  2021-2022   Pacers         26        Myles Turner           62   \n",
      "45  2021-2022  Pistons         28          Saddiq Bey            4   \n",
      "46  2021-2022  Pistons         28     Cade Cunningham            0   \n",
      "47  2021-2022  Pistons         28        Jerami Grant           16   \n",
      "48  2021-2022  Pistons         28        Corey Joseph            0   \n",
      "49  2021-2022  Pistons         28      Isaiah Stewart            0   \n",
      "75  2022-2023  Pistons         30          Saddiq Bey            3   \n",
      "76  2022-2023  Pistons         30  Bojan Bogdanović\\r            0   \n",
      "77  2022-2023  Pistons         30     Cade Cunningham            0   \n",
      "78  2022-2023  Pistons         30          Jaden Ivey            0   \n",
      "79  2022-2023  Pistons         30    Isaiah Stewart\\r            0   \n",
      "80  2022-2023    Spurs         29      Keldon Johnson            0   \n",
      "81  2022-2023    Spurs         29           Tre Jones           80   \n",
      "82  2022-2023    Spurs         29        Jakob Poeltl            0   \n",
      "83  2022-2023    Spurs         29       Jeremy Sochan           89   \n",
      "84  2022-2023    Spurs         29       Devin Vassell           35   \n",
      "85  2022-2023  Rockets         28         Eric Gordon           22   \n",
      "86  2022-2023  Rockets         28         Jalen Green            9   \n",
      "87  2022-2023  Rockets         28    Kevin Porter Jr.           52   \n",
      "88  2022-2023  Rockets         28      Alperen Sengun           21   \n",
      "89  2022-2023  Rockets         28    Jabari Smith Jr.           57   \n",
      "90  2022-2023  Hornets         27       Miles Bridges            0   \n",
      "91  2022-2023  Hornets         27            Tre Mann            4   \n",
      "92  2022-2023  Hornets         27      Vasilije Micic            0   \n",
      "93  2022-2023  Hornets         27      Brandon Miller            5   \n",
      "94  2022-2023  Hornets         27       Nick Richards           28   \n",
      "95  2022-2023  Blazers         26       Deandre Ayton            9   \n",
      "96  2022-2023  Blazers         26     Scoot Henderson            5   \n",
      "97  2022-2023  Blazers         26         Kris Murray            3   \n",
      "98  2022-2023  Blazers         26        Rayan Rupert            0   \n",
      "99  2022-2023  Blazers         26       Jabari Walker           16   \n",
      "\n",
      "    Unnamed: 5 Unnamed: 6 Unnamed: 7 Unnamed: 8  \n",
      "25         NaN        NaN        NaN        NaN  \n",
      "26         NaN        NaN        NaN        NaN  \n",
      "27         NaN        NaN        NaN        NaN  \n",
      "28         NaN        NaN        NaN        NaN  \n",
      "29         NaN        NaN        NaN        NaN  \n",
      "30         NaN        NaN        NaN        NaN  \n",
      "31         NaN        NaN        NaN        NaN  \n",
      "32         NaN        NaN        NaN        NaN  \n",
      "33         NaN        NaN        NaN        NaN  \n",
      "34         NaN        NaN        NaN        NaN  \n",
      "35         NaN        NaN        NaN        NaN  \n",
      "36         NaN        NaN        NaN        NaN  \n",
      "37         NaN        NaN        NaN        NaN  \n",
      "38         NaN        NaN        NaN        NaN  \n",
      "39         NaN        NaN        NaN        NaN  \n",
      "40         NaN        NaN        NaN        NaN  \n",
      "41         NaN        NaN        NaN        NaN  \n",
      "42         NaN        NaN        NaN        NaN  \n",
      "43         NaN        NaN        NaN        NaN  \n",
      "44         NaN        NaN        NaN        NaN  \n",
      "45         NaN        NaN        NaN        NaN  \n",
      "46         NaN        NaN        NaN        NaN  \n",
      "47         NaN        NaN        NaN        NaN  \n",
      "48         NaN        NaN        NaN        NaN  \n",
      "49         NaN        NaN        NaN        NaN  \n",
      "75         NaN        NaN        NaN        NaN  \n",
      "76         NaN        NaN        NaN        NaN  \n",
      "77         NaN        NaN        NaN        NaN  \n",
      "78         NaN        NaN        NaN        NaN  \n",
      "79         NaN        NaN        NaN        NaN  \n",
      "80         NaN        NaN        NaN        NaN  \n",
      "81         NaN        NaN        NaN        NaN  \n",
      "82         NaN        NaN        NaN        NaN  \n",
      "83         NaN        NaN        NaN        NaN  \n",
      "84         NaN        NaN        NaN        NaN  \n",
      "85         NaN        NaN        NaN        NaN  \n",
      "86         NaN        NaN        NaN        NaN  \n",
      "87         NaN        NaN        NaN        NaN  \n",
      "88         NaN        NaN        NaN        NaN  \n",
      "89         NaN        NaN        NaN        NaN  \n",
      "90         NaN        NaN        NaN        NaN  \n",
      "91         NaN        NaN        NaN        NaN  \n",
      "92         NaN        NaN        NaN        NaN  \n",
      "93         NaN        NaN        NaN        NaN  \n",
      "94         NaN        NaN        NaN        NaN  \n",
      "95         NaN        NaN        NaN        NaN  \n",
      "96         NaN        NaN        NaN        NaN  \n",
      "97         NaN        NaN        NaN        NaN  \n",
      "98         NaN        NaN        NaN        NaN  \n",
      "99         NaN        NaN        NaN        NaN  \n"
     ]
    }
   ],
   "source": [
    "losers = df[df['Team Rank'] > 5]\n",
    "print (losers)"
   ]
  },
  {
   "cell_type": "code",
   "execution_count": 6,
   "metadata": {},
   "outputs": [
    {
     "name": "stdout",
     "output_type": "stream",
     "text": [
      "31.76 14.66\n"
     ]
    }
   ],
   "source": [
    "print(np.mean([winners['# of tweets']]), np.mean([losers['# of tweets']]))"
   ]
  },
  {
   "cell_type": "markdown",
   "metadata": {},
   "source": [
    "According to our data, the winners tweet 31.76 times on average over the season while the losers tweet 14.66 times over the season. "
   ]
  },
  {
   "cell_type": "code",
   "execution_count": 7,
   "metadata": {},
   "outputs": [
    {
     "name": "stdout",
     "output_type": "stream",
     "text": [
      "       Season       Team  # of tweets\n",
      "0   2021-2022    Celtics          122\n",
      "1   2021-2022  Grizzlies          319\n",
      "2   2021-2022       Heat           53\n",
      "3   2021-2022      Magic           54\n",
      "4   2021-2022     Pacers           94\n",
      "5   2021-2022    Pistons           20\n",
      "6   2021-2022    Rockets           52\n",
      "7   2021-2022       Suns          337\n",
      "8   2021-2022    Thunder           75\n",
      "9   2021-2022   Warriors           77\n",
      "10  2022-2023      76ers          137\n",
      "11  2022-2023    Blazers           33\n",
      "12  2022-2023      Bucks          197\n",
      "13  2022-2023       Cavs          136\n",
      "14  2022-2023    Celtics          182\n",
      "15  2022-2023    Hornets           37\n",
      "16  2022-2023    Nuggets           28\n",
      "17  2022-2023    Pistons            3\n",
      "18  2022-2023    Rockets          161\n",
      "19  2022-2023      Spurs          204\n"
     ]
    }
   ],
   "source": [
    "season_team_tweets = df.groupby(['Season', 'Team'])['# of tweets'].sum().reset_index()\n",
    "print(season_team_tweets)"
   ]
  },
  {
   "cell_type": "code",
   "execution_count": 8,
   "metadata": {},
   "outputs": [
    {
     "data": {
      "image/png": "[encoded data removed]",
      "text/plain": [
       "<Figure size 1000x600 with 1 Axes>"
      ]
     },
     "metadata": {},
     "output_type": "display_data"
    },
    {
     "data": {
      "image/png": "[encoded data removed]",
      "text/plain": [
       "<Figure size 1000x600 with 1 Axes>"
      ]
     },
     "metadata": {},
     "output_type": "display_data"
    }
   ],
   "source": [
    "import matplotlib.pyplot as plt\n",
    "seasons = season_team_tweets['Season'].unique()\n",
    "for season in seasons:\n",
    "    season_data = season_team_tweets[season_team_tweets['Season'] == season]\n",
    "    \n",
    "    plt.figure(figsize=(10, 6))\n",
    "    plt.bar(season_data['Team'], season_data['# of tweets'], color='skyblue')\n",
    "    plt.xlabel('Team')\n",
    "    plt.ylabel('Total # of Tweets')\n",
    "    plt.title(f'Total Number of Tweets by Team for {season}')\n",
    "    plt.xticks(rotation=45)\n",
    "    plt.show()"
   ]
  },
  {
   "cell_type": "markdown",
   "metadata": {},
   "source": [
    "These graphs do a good job vizualizing the number of tweets per team, but you can't see which teams were good and which teams were bad in which graph. "
   ]
  },
  {
   "cell_type": "markdown",
   "metadata": {},
   "source": [
    "Based on the win totals for these teams that were not included in the data, it seems there's a weak correlation between teams that tweet more and wins. Looking at 2022-2023, the tall bars on the graph being the 76ers, Bucks, Cavs, Celtics, Rockets and Spurs, 4 out of the  6 were top 5 in the NBA that year. In 2021-2022, the tall bars are the Grizzlies and the Suns, both in the top 5. However, we can't overlook the fact that the nuggets were one of the best teams in the NBA in 2022, yet had very little tweets. Or the rockets and Spurs being bottom 5 teams having tons of tweets. "
   ]
  },
  {
   "cell_type": "code",
   "execution_count": 9,
   "metadata": {},
   "outputs": [
    {
     "name": "stdout",
     "output_type": "stream",
     "text": [
      "       Season     Team  Team Rank           Player  # of tweets  Wins\n",
      "0   2021-2022  Celtics          5     Jayson Tatum           41    51\n",
      "1   2021-2022  Celtics          5     Jaylen Brown           40    51\n",
      "2   2021-2022  Celtics          5       Al Horford           20    51\n",
      "3   2021-2022  Celtics          5     Marcus Smart           20    51\n",
      "4   2021-2022  Celtics          5    Derrick White            1    51\n",
      "..        ...      ...        ...              ...          ...   ...\n",
      "95  2022-2023  Blazers         26    Deandre Ayton            9    33\n",
      "96  2022-2023  Blazers         26  Scoot Henderson            5    33\n",
      "97  2022-2023  Blazers         26      Kris Murray            3    33\n",
      "98  2022-2023  Blazers         26     Rayan Rupert            0    33\n",
      "99  2022-2023  Blazers         26    Jabari Walker           16    33\n",
      "\n",
      "[100 rows x 6 columns]\n"
     ]
    }
   ],
   "source": [
    "dfwins= df = pd.read_csv('Semester Long Project Dataset With Wins.csv')\n",
    "print (dfwins)"
   ]
  },
  {
   "cell_type": "markdown",
   "metadata": {},
   "source": [
    "Now that we have a df with wins listed, we can run a regression program to see how number of tweets correlates with wins. "
   ]
  },
  {
   "cell_type": "code",
   "execution_count": 10,
   "metadata": {},
   "outputs": [
    {
     "name": "stdout",
     "output_type": "stream",
     "text": [
      "       Season       Team  Wins  # of tweets\n",
      "0   2021-2022    Celtics  51.0          122\n",
      "1   2021-2022  Grizzlies  56.0          319\n",
      "2   2021-2022       Heat  53.0           53\n",
      "3   2021-2022      Magic  22.0           54\n",
      "4   2021-2022     Pacers  25.0           94\n",
      "5   2021-2022    Pistons  23.0           20\n",
      "6   2021-2022    Rockets  20.0           52\n",
      "7   2021-2022       Suns  64.0          337\n",
      "8   2021-2022    Thunder  24.0           75\n",
      "9   2021-2022   Warriors  53.0           77\n",
      "10  2022-2023      76ers  54.0          137\n",
      "11  2022-2023    Blazers  33.0           33\n",
      "12  2022-2023      Bucks  58.0          197\n",
      "13  2022-2023       Cavs  51.0          136\n",
      "14  2022-2023    Celtics  57.0          182\n",
      "15  2022-2023    Hornets  27.0           37\n",
      "16  2022-2023    Nuggets  53.0           28\n",
      "17  2022-2023    Pistons  17.0            3\n",
      "18  2022-2023    Rockets  22.0          161\n",
      "19  2022-2023      Spurs  22.0          204\n"
     ]
    }
   ],
   "source": [
    "\n",
    "dfgroupwins = dfwins.groupby(['Season', 'Team'])['Wins'].sum().reset_index()\n",
    "dfgroupwins['# of tweets'] = dfwins.groupby(['Season', 'Team'])['# of tweets'].sum().values\n",
    "dfgroupwins['Wins'] = dfgroupwins['Wins'] / 5\n",
    "print(dfgroupwins)"
   ]
  },
  {
   "cell_type": "code",
   "execution_count": null,
   "metadata": {},
   "outputs": [],
   "source": []
  },
  {
   "cell_type": "code",
   "execution_count": 12,
   "metadata": {},
   "outputs": [
    {
     "name": "stdout",
     "output_type": "stream",
     "text": [
      "Intercept: 28.284350957078964\n",
      "Coefficient: 0.09449072850427434\n",
      "R^2 score: 0.28825255268028327\n"
     ]
    }
   ],
   "source": [
    "import pandas as pd\n",
    "from sklearn.linear_model import LinearRegression\n",
    "import numpy as np\n",
    "\n",
    "# Assuming dfwins is already defined and contains the necessary columns\n",
    "\n",
    "# Group and sum wins\n",
    "dfgroupwins = dfwins.groupby(['Season', 'Team'])['Wins'].sum().reset_index()\n",
    "\n",
    "# Assuming you have a column 'Tweets' i dfwins, sum the number of tweets\n",
    "dfgroupwins['# of tweets'] = dfwins.groupby(['Season', 'Team'])['# of tweets'].sum().values\n",
    "\n",
    "# Divide wins by 5 and add it as a new column\n",
    "dfgroupwins['Wins'] = dfgroupwins['Wins'] / 5\n",
    "\n",
    "# Prepare the data for regression\n",
    "X = dfgroupwins[['# of tweets']].values\n",
    "y = dfgroupwins['Wins'].values\n",
    "\n",
    "# Fit the regression model\n",
    "model = LinearRegression().fit(X, y)\n",
    "\n",
    "# Print the regression results\n",
    "print(f'Intercept: {model.intercept_}')\n",
    "print(f'Coefficient: {model.coef_[0]}')\n",
    "print(f'R^2 score: {model.score(X, y)}')"
   ]
  },
  {
   "cell_type": "code",
   "execution_count": null,
   "metadata": {},
   "outputs": [],
   "source": []
  },
  {
   "cell_type": "code",
   "execution_count": null,
   "metadata": {},
   "outputs": [],
   "source": []
  }
 ],
 "metadata": {
  "kernelspec": {
   "display_name": "Python 3 (ipykernel)",
   "language": "python",
   "name": "python3"
  },
  "language_info": {
   "codemirror_mode": {
    "name": "ipython",
    "version": 3
   },
   "file_extension": ".py",
   "mimetype": "text/x-python",
   "name": "python",
   "nbconvert_exporter": "python",
   "pygments_lexer": "ipython3",
   "version": "3.12.7"
  }
 },
 "nbformat": 4,
 "nbformat_minor": 4
}
