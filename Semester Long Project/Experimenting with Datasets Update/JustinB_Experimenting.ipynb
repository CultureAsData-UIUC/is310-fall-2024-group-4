# Import necessary libraries
import pandas as pd
import seaborn as sns
import matplotlib.pyplot as plt

# Define the dataset
data = {
    'Season': ['2021-2022', '2021-2022', '2021-2022', '2021-2022', '2021-2022', '2021-2022', '2021-2022', '2021-2022', '2021-2022', '2021-2022', '2021-2022', '2021-2022', '2021-2022', '2021-2022', '2021-2022', '2021-2022', '2021-2022', '2021-2022', '2021-2022', '2021-2022', '2021-2022', '2021-2022', '2021-2022', '2021-2022', '2021-2022', '2021-2022', '2021-2022', '2021-2022', '2022-2023', '2022-2023', '2022-2023', '2022-2023', '2022-2023', '2022-2023', '2022-2023', '2022-2023', '2022-2023', '2022-2023', '2022-2023', '2022-2023', '2022-2023', '2022-2023', '2022-2023', '2022-2023', '2022-2023', '2022-2023'],
    'Team': ['Celtics', 'Celtics', 'Celtics', 'Celtics', 'Celtics', 'Warriors', 'Warriors', 'Warriors', 'Warriors', 'Warriors', 'Grizzlies', 'Grizzlies', 'Grizzlies', 'Grizzlies', 'Grizzlies', 'Heat', 'Heat', 'Heat', 'Heat', 'Heat', 'Suns', 'Suns', 'Suns', 'Suns', 'Suns', 'Rockets', 'Rockets', 'Rockets', 'Rockets', 'Rockets', 'Magic', 'Magic', 'Magic', 'Magic', 'Magic', 'Thunder', 'Thunder', 'Thunder', 'Thunder', 'Thunder', 'Pacers', 'Pacers', 'Pacers', 'Pacers', 'Pacers', 'Pistons', 'Pistons', 'Pistons', 'Pistons', 'Pistons', 'Pistons', 'Bucks', 'Bucks', 'Bucks', 'Bucks', 'Bucks', 'Celtics', 'Celtics', 'Celtics', 'Celtics', 'Celtics', '76ers', '76ers', '76ers', '76ers', '76ers', 'Nuggets', 'Nuggets', 'Nuggets', 'Nuggets', 'Nuggets', 'Cavs', 'Cavs', 'Cavs', 'Cavs', 'Cavs', 'Cavs', 'Pistons', 'Pistons', 'Pistons', 'Pistons', 'Pistons', 'Spurs', 'Spurs', 'Spurs', 'Spurs', 'Spurs', 'Rockets', 'Rockets', 'Rockets', 'Rockets', 'Rockets', 'Hornets', 'Hornets', 'Hornets', 'Hornets', 'Hornets', 'Blazers', 'Blazers', 'Blazers', 'Blazers', 'Blazers'],
    'Team Rank': [5, 5, 5, 5, 5, 3, 3, 3, 3, 3, 2, 2, 2, 2, 2, 4, 4, 4, 4, 4, 1, 1, 1, 1, 1, 29, 29, 29, 29, 29, 30, 30, 30, 30, 30, 27, 27, 27, 27, 27, 26, 26, 26, 26, 26, 1, 1, 1, 1, 1, 2, 2, 2, 2, 2, 3, 3, 3, 3, 3, 4, 4, 4, 4, 4, 5, 5, 5, 5, 5, 30, 30, 30, 30, 30, 29, 29, 29, 29, 29, 28, 28, 28, 28, 28, 27, 27, 27, 27, 27, 26, 26, 26, 26, 26],
    'Player': ['Jayson Tatum', 'Jaylen Brown', 'Al Horford', 'Marcus Smart', 'Derrick White', 'Steph Curry', 'Draymond Green', 'Klay Thompson', 'Andrew Wiggins', 'Kevon Looney', 'Steven Adams', 'Desmond Bane', 'Jaren Jackson', 'Ja Morant', 'Ziaire Williams', 'Bam Adebayo', 'Jimmy Butler', 'Duncan Robinson', 'PJ Tucker', 'Kyle Lowry', 'Chris Paul', 'Devin Booker', 'Jae Crowder', 'Deandre Ayton', 'Mikal Bridges', 'Eric Gordon', 'Jalen Green', 'Kevin Porter Jr.', 'Jaesean Tate', 'Christian Wood', 'Cole Anthony', 'Wendell Carter', 'Mo Bamba', 'Jalen Suggs', 'Franz Wagner', 'Darius Bazeley', 'Luguentz Dort', 'Josh Giddey', 'Shai Gilgeous', 'Jeremiah Robinson', 'Malcolm Brogdon', 'Chris Duarte', 'Caris LeVert', 'Domantas Sabonis', 'Myles Turner', 'Saddiq Bey', 'Cade Cunningham', 'Jerami Grant', 'Corey Joseph', 'Isaiah Stewart', 'Grayson Allen', 'Giannis Antetokounmmpo', 'Pat Connaughton', 'Jrue Holiday', 'Brook Lopez', 'Jaylen Brown', 'Al Horford', 'Marcus Smart', 'Jayson Tatum', 'Derrick White', 'Joel Embiid', 'James Harden', 'Tobias Harris', 'Tyrese Maxey', 'P.J. Tucker', 'Michael Porter Jr.', 'Nikola Jokić', 'Aaron Gordon', 'Kentavious Caldwell-Pope', 'Jamal Murray', 'Jarrett Allen', 'Darius Garland', 'Donovan Mitchell', 'Evan Mobley', 'Isaac Okoro', 'Saddiq Bey', 'Bojan Bogdanović', 'Cade Cunningham', 'Jaden Ivey', 'Isaiah Stewart', 'Keldon Johnson', 'Tre Jones', 'Jakob Poeltl', 'Jeremy Sochan', 'Devin Vassell', 'Eric Gordon', 'Jalen Green', 'Kevin Porter Jr.', 'Alperen Sengun', 'Jabari Smith Jr.', 'Miles Bridges', 'Tre Mann', 'Vasilije Micic', 'Brandon Miller', 'Nick Richards', 'Deandre Ayton', 'Scoot Henderson', 'Kris Murray', 'Rayan Rupert', 'Jabari Walker'],
    '# of tweets': [41, 40, 20, 20, 1, 40, 20, 10, 13, 6, 10, 25, 26, 21, 13, 30, 22, 6, 7, 18, 40, 35, 14, 12, 8, 4, 3, 16, 1, 5, 4, 5, 9, 6, 20, 13, 18, 1, 5, 10, 12, 17, 19, 10, 8, 15, 14, 17, 7, 10, 20, 18, 7, 9, 17, 6, 19, 21, 22, 20, 20, 19, 19, 11, 7, 12, 18, 10, 12, 6, 16, 17, 11, 9, 8, 13, 14, 7, 5, 12, 5, 18, 19, 15, 15, 18, 5, 9, 10, 17, 9, 11, 6, 7, 8, 20, 6, 17, 9, 10, 15, 19]
}

# Ensure all lists in the data dictionary have the same length
min_length = min(len(v) for v in data.values())
data = {k: v[:min_length] for k, v in data.items()}

# Convert dictionary to a DataFrame
df = pd.DataFrame(data)

# Ensure columns are numeric
df['# of tweets'] = pd.to_numeric(df['# of tweets'], errors='coerce')
df['Team Rank'] = pd.to_numeric(df['Team Rank'], errors='coerce')

# Compute Correlation matrix
correlation_matrix = df[['# of tweets', 'Team Rank']].corr()

# Visualize the correlation matrix using a heatmap
plt.figure(figsize=(6, 4))  # Adjust the figure size
sns.heatmap(correlation_matrix, annot=True, cmap='coolwarm', fmt='.2f', cbar=True, linewidths=0.5)
plt.title('Correlation between # of tweets and Team Rank', fontsize=16)
plt.show()
