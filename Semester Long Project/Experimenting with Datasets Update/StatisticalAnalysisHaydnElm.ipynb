{
 "cells": [
  {
   "cell_type": "markdown",
   "metadata": {},
   "source": [
    "# Experimenting With Datasets Update\n",
    "\n",
    "Statistical Analysis (decided to not attempt topic modeling) - Haydn Elmore\n",
    "\n",
    "2021-2022 season dates: Oct 19th 2021 to April 10th 2022\n",
    "2022-2023 season dates: Oct 18th 2022 to April 9th 2023\n",
    "\n",
    "Starting 5 for each team collected here: https://www.basketball-reference.com/teams/MIL/2023_start.html\n",
    "\n",
    "Number of tweets collected from X (formerly twitter)"
   ]
  },
  {
   "cell_type": "code",
   "execution_count": 197,
   "metadata": {},
   "outputs": [
    {
     "data": {
      "application/vnd.jupyter.widget-view+json": {
       "model_id": "45000bf7102b44dbb7c03ded27843ea7",
       "version_major": 2,
       "version_minor": 0
      },
      "text/plain": [
       "VBox(children=(Figure(axes=[Axis(label='Team (Season)', scale=OrdinalScale()), Axis(label='Total tweets', orie…"
      ]
     },
     "metadata": {},
     "output_type": "display_data"
    }
   ],
   "source": [
    "import pandas as pd\n",
    "import bqplot as bq\n",
    "import ipywidgets as widgets\n",
    "\n",
    "df = pd.read_csv('Semester Long Project Dataset.csv')\n",
    "df_2021_2022 = df[df['Season'] == '2021-2022']\n",
    "df_2022_2023 = df[df['Season'] == '2022-2023']\n",
    "team_season_tweets_2021_2022 = df_2021_2022.groupby(['Team', 'Season'])['# of tweets'].sum().reset_index()\n",
    "team_season_tweets_2021_2022['Rank'] = df_2021_2022.groupby(['Team', 'Season'])['Team Rank'].first().reindex(team_season_tweets_2021_2022.set_index(['Team', 'Season']).index).values\n",
    "team_season_tweets_2021_2022_sorted = team_season_tweets_2021_2022.sort_values(by='Rank')\n",
    "team_season_tweets_2021_2022_sorted['Team_Season'] = team_season_tweets_2021_2022_sorted['Team'] + ' (' + team_season_tweets_2021_2022_sorted['Season'].astype(str) + ')'\n",
    "team_season_tweets_2022_2023 = df_2022_2023.groupby(['Team', 'Season'])['# of tweets'].sum().reset_index()\n",
    "team_season_tweets_2022_2023['Rank'] = df_2022_2023.groupby(['Team', 'Season'])['Team Rank'].first().reindex(team_season_tweets_2022_2023.set_index(['Team', 'Season']).index).values\n",
    "team_season_tweets_2022_2023_sorted = team_season_tweets_2022_2023.sort_values(by='Rank')\n",
    "team_season_tweets_2022_2023_sorted['Team_Season'] = team_season_tweets_2022_2023_sorted['Team'] + ' (' + team_season_tweets_2022_2023_sorted['Season'].astype(str) + ')'\n",
    "x_sc_2021_2022 = bq.OrdinalScale()\n",
    "y_sc_2021_2022 = bq.LinearScale()\n",
    "bars_2021_2022 = bq.Bars(x=team_season_tweets_2021_2022_sorted['Team_Season'], y=team_season_tweets_2021_2022_sorted['# of tweets'], scales={'x': x_sc_2021_2022, 'y': y_sc_2021_2022}, colors=['green'])\n",
    "ax_x_2021_2022 = bq.Axis(scale=x_sc_2021_2022, label='Team (Season)')\n",
    "ax_y_2021_2022 = bq.Axis(scale=y_sc_2021_2022, orientation='vertical', label='Total tweets')\n",
    "fig_2021_2022 = bq.Figure(marks=[bars_2021_2022], axes=[ax_x_2021_2022, ax_y_2021_2022], title='Total Tweets by Team for 2021-2022 Season')\n",
    "\n",
    "x_sc_2022_2023 = bq.OrdinalScale()\n",
    "y_sc_2022_2023 = bq.LinearScale()\n",
    "bars_2022_2023 = bq.Bars(x=team_season_tweets_2022_2023_sorted['Team_Season'], y=team_season_tweets_2022_2023_sorted['# of tweets'], scales={'x': x_sc_2022_2023, 'y': y_sc_2022_2023}, colors=['blue'])\n",
    "ax_x_2022_2023 = bq.Axis(scale=x_sc_2022_2023, label='Team (Season)')\n",
    "ax_y_2022_2023 = bq.Axis(scale=y_sc_2022_2023, orientation='vertical', label='Total tweets')\n",
    "fig_2022_2023 = bq.Figure(marks=[bars_2022_2023], axes=[ax_x_2022_2023, ax_y_2022_2023], title='Total Tweets by Team for 2022-2023 Season')\n",
    "\n",
    "widgets.VBox([fig_2021_2022, fig_2022_2023])\n"
   ]
  },
  {
   "cell_type": "markdown",
   "metadata": {},
   "source": [
    "These bar graphs show season ranking for each team over the total number of tweets each team has. This allows us to directly link season performance to total number of tweets that each team has. So, there's two sets of top 5 teams and two sets of bottom 5 teams. The bars are ordered from top rank to descending rank, so the Suns were rank 1 for the 2021-2022 season and the Bucks were rank 1 for the 2022-2023 season. As you go to the right, the ranking decreases.\n",
    "Upon looking at the bar chart, we can conclude that the top performing teams of both seasons generally appear to tweet more frequently than other teams. However, outside of top 2 it becomes a mixed bag. Near the end of the graph we can see that rank 28 (rockets) and rank 29 (spurs) of the 2022-2023 season were both tweeting quite frequently even though their teams were bottom performers for their respective season. However, it is apparent that the very top season performers tend to have players that are tweeting more often than the rest of the league. This is especially clear for the 2021-2022 season."
   ]
  },
  {
   "cell_type": "code",
   "execution_count": 198,
   "metadata": {},
   "outputs": [
    {
     "data": {
      "application/vnd.jupyter.widget-view+json": {
       "model_id": "ff4b102baf484add977eba78c4a6a486",
       "version_major": 2,
       "version_minor": 0
      },
      "text/plain": [
       "VBox(children=(Figure(fig_margin={'top': 60, 'bottom': 60, 'left': 60, 'right': 60}, marks=[Pie(colors=['#1f77…"
      ]
     },
     "metadata": {},
     "output_type": "display_data"
    }
   ],
   "source": [
    "team_season_tweet_counts = df.groupby(['Team', 'Season', 'Team Rank'])['# of tweets'].sum().reset_index()\n",
    "seasons = team_season_tweet_counts['Season'].unique()\n",
    "pie_charts = []\n",
    "for season in seasons:\n",
    "    season_data = team_season_tweet_counts[team_season_tweet_counts['Season'] == season]\n",
    "    season_data = season_data.sort_values(by='# of tweets')  # Sort by predetermined rank\n",
    "    labels = [f\"{rank}. {team}\" for rank, team in zip(season_data['Team Rank'], season_data['Team'])]\n",
    "    pie_chart = bq.Pie(\n",
    "        sizes=season_data['# of tweets'].values,\n",
    "        labels=labels,\n",
    "        display_labels='outside',\n",
    "        inner_radius=0.2,\n",
    "        colors=bq.CATEGORY10\n",
    "    )\n",
    "    pie_chart_figure = bq.Figure(marks=[pie_chart], title=f'Percentage of Tweets by Team in {season}')\n",
    "    pie_charts.append(pie_chart_figure)\n",
    "\n",
    "widgets.VBox(pie_charts)"
   ]
  },
  {
   "cell_type": "markdown",
   "metadata": {},
   "source": [
    "With the 2022-2023 season, there's a trend with the top teams having players that tweet more often than other teams. There are two big exceptions to this, the spurs and the rockets.The pie chart really shows the massive portions that those 6 teams have. Given that there are 10 teams, it's pretty impressive that those 6 have such a large percentage of the space. When we look at the chart, we expect the Bucks, Celtics, the 76ers, and the cavs to have such a large portion. These top teams hold over half of the space, which is good. Again though, the spurs and the rockets are combating our case here. They make a strong case in disproving our hypothesis that measure of success in the league translates to more tweets.\n",
    "\n",
    "With the 2021-2022 season, the pie chart shows that the amount of tweets from the top teams takes up a significantly higher portion of the overall tweet sphere than the lesser ranked teams. Outside of the miami heat being really low, this graph is pretty indicative of success on the court translating to larger amounts of tweets. Suprisingly, the pacers do take up a decent chunck of the pie, but overall this chart supports the idea of our research question. \n",
    "\n",
    "\n",
    "If we figure out the avg number of tweets for a top 5 team vs a bottom 5 team we come up with:\n",
    "\n",
    "Total # of tweets for top 5 teams (both seasons): 1588\n",
    "1588 tweets / 10 teams = 158.8 tweets on average for a top 5 team\n",
    "\n",
    "Total # of tweetes for bottom 5 teams (both seasons): 733\n",
    "733 tweets / 10 teams = 73.3 tweets on average for a bottom 5 team\n",
    "\n",
    "Therefore, on average, a top 5 team has over twice as many tweets as a bottom 5 team. Granted, the stats are a bit skewed for the top 2 teams in both seasons. If we had a lot more data to work with, there might be some differences in the results."
   ]
  },
  {
   "cell_type": "code",
   "execution_count": 199,
   "metadata": {},
   "outputs": [
    {
     "data": {
      "application/vnd.jupyter.widget-view+json": {
       "model_id": "3b40feaefca0416cbc07f7f9f8802163",
       "version_major": 2,
       "version_minor": 0
      },
      "text/plain": [
       "VBox(children=(Figure(axes=[Axis(label='Player', label_offset='50px', scale=OrdinalScale()), Axis(label='# of …"
      ]
     },
     "metadata": {},
     "output_type": "display_data"
    }
   ],
   "source": [
    "import pandas as pd\n",
    "import bqplot as bq\n",
    "import ipywidgets as widgets\n",
    "\n",
    "df = pd.read_csv('Semester Long Project Dataset.csv')\n",
    "\n",
    "# Sort the DataFrame by the 'Team' column\n",
    "df = df.sort_values(by='Team')\n",
    "\n",
    "# Create a bar chart\n",
    "x_data = df['Player']\n",
    "y_data = df['# of tweets']\n",
    "team_data = df['Team']\n",
    "\n",
    "# Assign colors based on the team\n",
    "color_data = ['yellow' if team == 'Warriors' \n",
    "else 'orange' if team == 'Suns'\n",
    "else 'green' if team == 'Celtics'\n",
    "else 'blue' if team == 'Grizzlies'\n",
    "else 'red' if team == 'Heat'\n",
    "else 'purple' if team == 'Magic'\n",
    "else 'navy' if team == 'Thunder'\n",
    "else 'teal' if team == 'Pacers'\n",
    "else 'black' if team == 'Pistons'\n",
    "else 'silver' if team == 'Bucks'\n",
    "else 'maroon' if team == '76ers'\n",
    "else 'gold' if team == 'Nuggets'\n",
    "else 'lime' if team == 'Cavs'\n",
    "else 'pink' if team == 'Spurs'\n",
    "else 'brown' if team == 'Rockets'\n",
    "else 'cyan' if team == 'Hornets'\n",
    "else 'magenta' if team == 'Blazers'\n",
    "else 'orange' for team in team_data]\n",
    "\n",
    "x_sc = bq.OrdinalScale()\n",
    "y_sc = bq.LinearScale()\n",
    "\n",
    "bars = bq.Bars(x=x_data, y=y_data, colors=color_data, scales={'x': x_sc, 'y': y_sc}, tooltip=bq.Tooltip(fields=['x', 'y'], labels=['Player', '# of tweets']))\n",
    "\n",
    "# Add player and tweet data to the bars\n",
    "bars.tooltip_data = [{'x': player, 'y': tweets} for player, tweets in zip(x_data, y_data)]\n",
    "\n",
    "ax_x = bq.Axis(scale=x_sc, label='Player', label_offset='50px', label_rotate=45)\n",
    "ax_y = bq.Axis(scale=y_sc, orientation='vertical', label='# of tweets')\n",
    "\n",
    "fig = bq.Figure(marks=[bars], axes=[ax_x, ax_y])\n",
    "\n",
    "# Display the figure\n",
    "widgets.VBox([fig])\n"
   ]
  },
  {
   "cell_type": "markdown",
   "metadata": {},
   "source": [
    "This is a breakdown of each player on each team and how many tweets that they contributed to their team. If you hover over a bar it will show the player and the amount of tweets that they posted for the season. Each player is color coded according to their team. There's a few that standout including Giannis and Mikal. It sort of makes sense why Giannis has such a high amount considering that just the prior season of 2020-2021 he was named Finals MVP. He had a pretty prevalent rise within the NBA community around that time."
   ]
  }
 ],
 "metadata": {
  "kernelspec": {
   "display_name": "Python 3",
   "language": "python",
   "name": "python3"
  },
  "language_info": {
   "codemirror_mode": {
    "name": "ipython",
    "version": 3
   },
   "file_extension": ".py",
   "mimetype": "text/x-python",
   "name": "python",
   "nbconvert_exporter": "python",
   "pygments_lexer": "ipython3",
   "version": "3.8.6"
  }
 },
 "nbformat": 4,
 "nbformat_minor": 4
}
