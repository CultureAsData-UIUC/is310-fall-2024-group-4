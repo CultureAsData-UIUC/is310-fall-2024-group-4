{
 "cells": [
  {
   "cell_type": "markdown",
   "metadata": {},
   "source": [
    "# 2022-2023 NBA Player Social Media Activity\n",
    "\n",
    "The dataset focuses on NBA teams, players, seasons, and social media activity (tweets)."
   ]
  },
  {
   "cell_type": "code",
   "execution_count": 1,
   "metadata": {},
   "outputs": [
    {
     "data": {
      "text/html": [
       "<div>\n",
       "<style scoped>\n",
       "    .dataframe tbody tr th:only-of-type {\n",
       "        vertical-align: middle;\n",
       "    }\n",
       "\n",
       "    .dataframe tbody tr th {\n",
       "        vertical-align: top;\n",
       "    }\n",
       "\n",
       "    .dataframe thead th {\n",
       "        text-align: right;\n",
       "    }\n",
       "</style>\n",
       "<table border=\"1\" class=\"dataframe\">\n",
       "  <thead>\n",
       "    <tr style=\"text-align: right;\">\n",
       "      <th></th>\n",
       "      <th>Season</th>\n",
       "      <th>Team</th>\n",
       "      <th>Team Rank</th>\n",
       "      <th>Player</th>\n",
       "      <th># of tweets</th>\n",
       "      <th>Unnamed: 5</th>\n",
       "      <th>Unnamed: 6</th>\n",
       "      <th>Unnamed: 7</th>\n",
       "      <th>Unnamed: 8</th>\n",
       "    </tr>\n",
       "  </thead>\n",
       "  <tbody>\n",
       "    <tr>\n",
       "      <th>0</th>\n",
       "      <td>2021-2022</td>\n",
       "      <td>Celtics</td>\n",
       "      <td>5</td>\n",
       "      <td>Jayson Tatum</td>\n",
       "      <td>41</td>\n",
       "      <td>NaN</td>\n",
       "      <td>Start Date</td>\n",
       "      <td>October 19, 2021</td>\n",
       "      <td>Starting 5 Website</td>\n",
       "    </tr>\n",
       "    <tr>\n",
       "      <th>1</th>\n",
       "      <td>2021-2022</td>\n",
       "      <td>Celtics</td>\n",
       "      <td>5</td>\n",
       "      <td>Jaylen Brown</td>\n",
       "      <td>40</td>\n",
       "      <td>NaN</td>\n",
       "      <td>End Date</td>\n",
       "      <td>April 10, 2022</td>\n",
       "      <td>(from:Al_Horford) until:2023-04-09 since:2022-...</td>\n",
       "    </tr>\n",
       "    <tr>\n",
       "      <th>2</th>\n",
       "      <td>2021-2022</td>\n",
       "      <td>Celtics</td>\n",
       "      <td>5</td>\n",
       "      <td>Al Horford</td>\n",
       "      <td>20</td>\n",
       "      <td>NaN</td>\n",
       "      <td>NaN</td>\n",
       "      <td>NaN</td>\n",
       "      <td>NaN</td>\n",
       "    </tr>\n",
       "    <tr>\n",
       "      <th>3</th>\n",
       "      <td>2021-2022</td>\n",
       "      <td>Celtics</td>\n",
       "      <td>5</td>\n",
       "      <td>Marcus Smart</td>\n",
       "      <td>20</td>\n",
       "      <td>NaN</td>\n",
       "      <td>NaN</td>\n",
       "      <td>NaN</td>\n",
       "      <td>NaN</td>\n",
       "    </tr>\n",
       "    <tr>\n",
       "      <th>4</th>\n",
       "      <td>2021-2022</td>\n",
       "      <td>Celtics</td>\n",
       "      <td>5</td>\n",
       "      <td>Derrick White</td>\n",
       "      <td>1</td>\n",
       "      <td>NaN</td>\n",
       "      <td>NaN</td>\n",
       "      <td>NaN</td>\n",
       "      <td>NaN</td>\n",
       "    </tr>\n",
       "  </tbody>\n",
       "</table>\n",
       "</div>"
      ],
      "text/plain": [
       "      Season     Team  Team Rank         Player  # of tweets  Unnamed: 5  \\\n",
       "0  2021-2022  Celtics          5   Jayson Tatum           41         NaN   \n",
       "1  2021-2022  Celtics          5   Jaylen Brown           40         NaN   \n",
       "2  2021-2022  Celtics          5     Al Horford           20         NaN   \n",
       "3  2021-2022  Celtics          5   Marcus Smart           20         NaN   \n",
       "4  2021-2022  Celtics          5  Derrick White            1         NaN   \n",
       "\n",
       "   Unnamed: 6        Unnamed: 7  \\\n",
       "0  Start Date  October 19, 2021   \n",
       "1   End Date     April 10, 2022   \n",
       "2         NaN               NaN   \n",
       "3         NaN               NaN   \n",
       "4         NaN               NaN   \n",
       "\n",
       "                                          Unnamed: 8  \n",
       "0                                 Starting 5 Website  \n",
       "1  (from:Al_Horford) until:2023-04-09 since:2022-...  \n",
       "2                                                NaN  \n",
       "3                                                NaN  \n",
       "4                                                NaN  "
      ]
     },
     "execution_count": 1,
     "metadata": {},
     "output_type": "execute_result"
    }
   ],
   "source": [
    "import pandas as pd\n",
    "\n",
    "data = pd.read_csv('Semester Long Project Dataset.csv')\n",
    "\n",
    "data.head()"
   ]
  },
  {
   "cell_type": "markdown",
   "metadata": {},
   "source": [
    "### Overview:\n",
    "- The dataset includes columns such as 'Season,' 'Team,' 'Player,' and '# of tweets.'\n",
    "- We need to clean out the extra columns that won't be of use.\n",
    "\n",
    "---\n",
    "\n",
    "## 2. Data Cleaning"
   ]
  },
  {
   "cell_type": "code",
   "execution_count": 2,
   "metadata": {},
   "outputs": [
    {
     "data": {
      "text/html": [
       "<div>\n",
       "<style scoped>\n",
       "    .dataframe tbody tr th:only-of-type {\n",
       "        vertical-align: middle;\n",
       "    }\n",
       "\n",
       "    .dataframe tbody tr th {\n",
       "        vertical-align: top;\n",
       "    }\n",
       "\n",
       "    .dataframe thead th {\n",
       "        text-align: right;\n",
       "    }\n",
       "</style>\n",
       "<table border=\"1\" class=\"dataframe\">\n",
       "  <thead>\n",
       "    <tr style=\"text-align: right;\">\n",
       "      <th></th>\n",
       "      <th>season</th>\n",
       "      <th>team</th>\n",
       "      <th>team_rank</th>\n",
       "      <th>player</th>\n",
       "      <th>#_of_tweets</th>\n",
       "    </tr>\n",
       "  </thead>\n",
       "  <tbody>\n",
       "    <tr>\n",
       "      <th>0</th>\n",
       "      <td>2021-2022</td>\n",
       "      <td>Celtics</td>\n",
       "      <td>5</td>\n",
       "      <td>Jayson Tatum</td>\n",
       "      <td>41</td>\n",
       "    </tr>\n",
       "    <tr>\n",
       "      <th>1</th>\n",
       "      <td>2021-2022</td>\n",
       "      <td>Celtics</td>\n",
       "      <td>5</td>\n",
       "      <td>Jaylen Brown</td>\n",
       "      <td>40</td>\n",
       "    </tr>\n",
       "    <tr>\n",
       "      <th>2</th>\n",
       "      <td>2021-2022</td>\n",
       "      <td>Celtics</td>\n",
       "      <td>5</td>\n",
       "      <td>Al Horford</td>\n",
       "      <td>20</td>\n",
       "    </tr>\n",
       "    <tr>\n",
       "      <th>3</th>\n",
       "      <td>2021-2022</td>\n",
       "      <td>Celtics</td>\n",
       "      <td>5</td>\n",
       "      <td>Marcus Smart</td>\n",
       "      <td>20</td>\n",
       "    </tr>\n",
       "    <tr>\n",
       "      <th>4</th>\n",
       "      <td>2021-2022</td>\n",
       "      <td>Celtics</td>\n",
       "      <td>5</td>\n",
       "      <td>Derrick White</td>\n",
       "      <td>1</td>\n",
       "    </tr>\n",
       "  </tbody>\n",
       "</table>\n",
       "</div>"
      ],
      "text/plain": [
       "      season     team  team_rank         player  #_of_tweets\n",
       "0  2021-2022  Celtics          5   Jayson Tatum           41\n",
       "1  2021-2022  Celtics          5   Jaylen Brown           40\n",
       "2  2021-2022  Celtics          5     Al Horford           20\n",
       "3  2021-2022  Celtics          5   Marcus Smart           20\n",
       "4  2021-2022  Celtics          5  Derrick White            1"
      ]
     },
     "execution_count": 2,
     "metadata": {},
     "output_type": "execute_result"
    }
   ],
   "source": [
    "# Drop irrelevant columns\n",
    "data_cleaned = data.drop(columns=['Unnamed: 5', 'Unnamed: 6', 'Unnamed: 7', 'Unnamed: 8'], errors='ignore')\n",
    "\n",
    "# Fill missing values in '# of tweets' with 0\n",
    "data_cleaned['# of tweets'] = data_cleaned['# of tweets'].fillna(0)\n",
    "\n",
    "# Standardize column names\n",
    "data_cleaned.columns = data_cleaned.columns.str.strip().str.replace(' ', '_').str.lower()\n",
    "\n",
    "# Preview cleaned dataset\n",
    "data_cleaned.head()"
   ]
  },
  {
   "cell_type": "markdown",
   "metadata": {},
   "source": [
    "### Observations:\n",
    "- Unnecessary columns were dropped.\n",
    "- Missing values in '# of tweets' were filled with 0 for clarity.\n",
    "- Column names were standardized for easier access.\n",
    "\n",
    "---\n",
    "\n",
    "## 3. Exploratory Data Analysis (EDA)\n",
    "\n",
    "### Goals:\n",
    "- Investigate the distribution of tweets per player.\n",
    "- Analyze tweet activity by team and season."
   ]
  },
  {
   "cell_type": "code",
   "execution_count": 3,
   "metadata": {},
   "outputs": [
    {
     "data": {
      "image/png": "[encoded data removed]",
      "text/plain": [
       "<Figure size 720x432 with 1 Axes>"
      ]
     },
     "metadata": {
      "needs_background": "light"
     },
     "output_type": "display_data"
    }
   ],
   "source": [
    "import matplotlib.pyplot as plt\n",
    "\n",
    "# Distribution of tweets per player\n",
    "plt.figure(figsize=(10, 6))\n",
    "data_cleaned['#_of_tweets'].plot(kind='hist', bins=20, edgecolor='black')\n",
    "plt.title('Distribution of Tweets Per Player')\n",
    "plt.xlabel('Number of Tweets')\n",
    "plt.ylabel('Frequency')\n",
    "plt.show()"
   ]
  },
  {
   "cell_type": "code",
   "execution_count": 4,
   "metadata": {},
   "outputs": [
    {
     "data": {
      "image/png": "[encoded data removed]",
      "text/plain": [
       "<Figure size 864x432 with 1 Axes>"
      ]
     },
     "metadata": {
      "needs_background": "light"
     },
     "output_type": "display_data"
    }
   ],
   "source": [
    "# Tweet activity by team\n",
    "tweets_by_team = data_cleaned.groupby('team')['#_of_tweets'].sum().sort_values(ascending=False)\n",
    "plt.figure(figsize=(12, 6))\n",
    "tweets_by_team.plot(kind='bar')\n",
    "plt.title('Tweet Activity by Team')\n",
    "plt.xlabel('Team')\n",
    "plt.ylabel('Total Tweets')\n",
    "plt.xticks(rotation=45)\n",
    "plt.show()"
   ]
  },
  {
   "cell_type": "markdown",
   "metadata": {},
   "source": [
    "- Players' tweet activity is unevenly distributed, with most having fewer tweets.\n",
    "- Teams vary significantly in total tweet activity, possibly reflecting their social media engagement strategies.\n",
    "- Interested in collecting additional player data for more complex analysis"
   ]
  },
  {
   "cell_type": "markdown",
   "metadata": {},
   "source": []
  }
 ],
 "metadata": {
  "kernelspec": {
   "display_name": "data-work-env",
   "language": "python",
   "name": "python3"
  },
  "language_info": {
   "codemirror_mode": {
    "name": "ipython",
    "version": 3
   },
   "file_extension": ".py",
   "mimetype": "text/x-python",
   "name": "python",
   "nbconvert_exporter": "python",
   "pygments_lexer": "ipython3",
   "version": "3.9.20"
  }
 },
 "nbformat": 4,
 "nbformat_minor": 4
}
